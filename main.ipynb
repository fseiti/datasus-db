{
 "cells": [
  {
   "cell_type": "code",
   "execution_count": 4,
   "metadata": {},
   "outputs": [],
   "source": [
    "import pandas as pd\n",
    "from dbfread import DBF\n",
    "import duckdb"
   ]
  },
  {
   "cell_type": "code",
   "execution_count": 5,
   "metadata": {},
   "outputs": [],
   "source": [
    "filename = r\"C:\\Users\\Murilo\\Downloads\\dbf\\RDSP2301.dbf\""
   ]
  },
  {
   "cell_type": "code",
   "execution_count": 7,
   "metadata": {},
   "outputs": [],
   "source": [
    "dbf = DBF(filename)\n",
    "df = pd.DataFrame(iter(dbf))\n"
   ]
  },
  {
   "cell_type": "code",
   "execution_count": 13,
   "metadata": {},
   "outputs": [
    {
     "name": "stderr",
     "output_type": "stream",
     "text": [
      "C:\\Users\\Murilo\\AppData\\Local\\Temp\\ipykernel_13240\\281237706.py:1: UserWarning: Instantiating Int16Dtype without any arguments.Pass a Int16Dtype instance to silence this warning.\n",
      "  s1 = pd.Series([1, 2, 3, 4, 5], dtype=pd.Int16Dtype)\n",
      "C:\\Users\\Murilo\\AppData\\Local\\Temp\\ipykernel_13240\\281237706.py:2: UserWarning: Instantiating StringDtype without any arguments.Pass a StringDtype instance to silence this warning.\n",
      "  s2 = pd.Series([\"Murilo\", \"Matheus\", \"Graca\", \"Milton\", \"Mujica\"], dtype=pd.StringDtype)\n",
      "C:\\Users\\Murilo\\AppData\\Local\\Temp\\ipykernel_13240\\281237706.py:3: UserWarning: Instantiating BooleanDtype without any arguments.Pass a BooleanDtype instance to silence this warning.\n",
      "  s3 = pd.Series([True, True, True, False, False], dtype=pd.BooleanDtype)\n"
     ]
    },
    {
     "data": {
      "text/html": [
       "<div>\n",
       "<style scoped>\n",
       "    .dataframe tbody tr th:only-of-type {\n",
       "        vertical-align: middle;\n",
       "    }\n",
       "\n",
       "    .dataframe tbody tr th {\n",
       "        vertical-align: top;\n",
       "    }\n",
       "\n",
       "    .dataframe thead th {\n",
       "        text-align: right;\n",
       "    }\n",
       "</style>\n",
       "<table border=\"1\" class=\"dataframe\">\n",
       "  <thead>\n",
       "    <tr style=\"text-align: right;\">\n",
       "      <th></th>\n",
       "      <th>id</th>\n",
       "      <th>name</th>\n",
       "      <th>boolean</th>\n",
       "    </tr>\n",
       "  </thead>\n",
       "  <tbody>\n",
       "    <tr>\n",
       "      <th>0</th>\n",
       "      <td>1</td>\n",
       "      <td>Murilo</td>\n",
       "      <td>True</td>\n",
       "    </tr>\n",
       "    <tr>\n",
       "      <th>1</th>\n",
       "      <td>2</td>\n",
       "      <td>Matheus</td>\n",
       "      <td>True</td>\n",
       "    </tr>\n",
       "    <tr>\n",
       "      <th>2</th>\n",
       "      <td>3</td>\n",
       "      <td>Graca</td>\n",
       "      <td>True</td>\n",
       "    </tr>\n",
       "    <tr>\n",
       "      <th>3</th>\n",
       "      <td>4</td>\n",
       "      <td>Milton</td>\n",
       "      <td>False</td>\n",
       "    </tr>\n",
       "    <tr>\n",
       "      <th>4</th>\n",
       "      <td>5</td>\n",
       "      <td>Mujica</td>\n",
       "      <td>False</td>\n",
       "    </tr>\n",
       "  </tbody>\n",
       "</table>\n",
       "</div>"
      ],
      "text/plain": [
       "   id     name  boolean\n",
       "0   1   Murilo     True\n",
       "1   2  Matheus     True\n",
       "2   3    Graca     True\n",
       "3   4   Milton    False\n",
       "4   5   Mujica    False"
      ]
     },
     "execution_count": 13,
     "metadata": {},
     "output_type": "execute_result"
    }
   ],
   "source": [
    "s1 = pd.Series([1, 2, 3, 4, 5], dtype=pd.Int16Dtype)\n",
    "s2 = pd.Series([\"Murilo\", \"Matheus\", \"Graca\", \"Milton\", \"Mujica\"], dtype=pd.StringDtype)\n",
    "s3 = pd.Series([True, True, True, False, False], dtype=pd.BooleanDtype)\n",
    "test_df = pd.DataFrame({\n",
    "    \"id\": s1,\n",
    "    \"name\": s2,\n",
    "    \"boolean\": s3\n",
    "})\n",
    "\n",
    "test_df"
   ]
  },
  {
   "cell_type": "code",
   "execution_count": 23,
   "metadata": {},
   "outputs": [
    {
     "name": "stdout",
     "output_type": "stream",
     "text": [
      "       file\n",
      "0  test.txt\n"
     ]
    }
   ],
   "source": [
    "with duckdb.connect(r\"C:\\Users\\Murilo\\Downloads\\duckdb\\test.db\") as con:\n",
    "    # result = con.sql(\"CREATE TABLE IF NOT EXISTS dbf AS SELECT * FROM test_df\")\n",
    "    result = con.execute(f\"SELECT file FROM __import where table_name = ?\", [\"blabla\"]).df()\n",
    "    print(result)\n",
    "\n"
   ]
  }
 ],
 "metadata": {
  "kernelspec": {
   "display_name": "Python 3",
   "language": "python",
   "name": "python3"
  },
  "language_info": {
   "codemirror_mode": {
    "name": "ipython",
    "version": 3
   },
   "file_extension": ".py",
   "mimetype": "text/x-python",
   "name": "python",
   "nbconvert_exporter": "python",
   "pygments_lexer": "ipython3",
   "version": "3.11.3"
  }
 },
 "nbformat": 4,
 "nbformat_minor": 2
}
