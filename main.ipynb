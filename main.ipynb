{
 "cells": [
  {
   "cell_type": "code",
   "execution_count": 35,
   "metadata": {},
   "outputs": [],
   "source": [
    "import pandas as pd\n",
    "from dbfread import DBF\n",
    "from simpledbf import Dbf5\n",
    "import duckdb\n",
    "import polars as pl"
   ]
  },
  {
   "cell_type": "code",
   "execution_count": 112,
   "metadata": {},
   "outputs": [],
   "source": [
    "def read_df(filename):\n",
    "    dbf = DBF(filename, encoding=\"iso-8859-1\")\n",
    "    return pl.DataFrame(iter(dbf))\n"
   ]
  },
  {
   "cell_type": "code",
   "execution_count": 174,
   "metadata": {},
   "outputs": [],
   "source": [
    "df = read_df(r\"C:\\Users\\Murilo\\Downloads\\dbf\\RDAC0801.dbf\")"
   ]
  },
  {
   "cell_type": "code",
   "execution_count": 115,
   "metadata": {},
   "outputs": [],
   "source": [
    "\n",
    "df2 = read_df(r\"C:\\Users\\Murilo\\Downloads\\dbf\\RDSP2301.dbf\")"
   ]
  },
  {
   "cell_type": "code",
   "execution_count": 201,
   "metadata": {},
   "outputs": [
    {
     "name": "stdout",
     "output_type": "stream",
     "text": [
      "MUNIC_RES\n",
      "MUNIC_MOV\n"
     ]
    },
    {
     "data": {
      "text/html": [
       "<div><style>\n",
       ".dataframe > thead > tr > th,\n",
       ".dataframe > tbody > tr > td {\n",
       "  text-align: right;\n",
       "  white-space: pre-wrap;\n",
       "}\n",
       "</style>\n",
       "<small>shape: (2_087,)</small><table border=\"1\" class=\"dataframe\"><thead><tr><th>COMPLEX</th></tr><tr><td>str</td></tr></thead><tbody><tr><td>&quot;02&quot;</td></tr><tr><td>&quot;02&quot;</td></tr><tr><td>&quot;02&quot;</td></tr><tr><td>&quot;02&quot;</td></tr><tr><td>&quot;02&quot;</td></tr><tr><td>&quot;02&quot;</td></tr><tr><td>&quot;02&quot;</td></tr><tr><td>&quot;02&quot;</td></tr><tr><td>&quot;02&quot;</td></tr><tr><td>&quot;02&quot;</td></tr><tr><td>&quot;02&quot;</td></tr><tr><td>&quot;02&quot;</td></tr><tr><td>&hellip;</td></tr><tr><td>&quot;02&quot;</td></tr><tr><td>&quot;02&quot;</td></tr><tr><td>&quot;02&quot;</td></tr><tr><td>&quot;02&quot;</td></tr><tr><td>&quot;02&quot;</td></tr><tr><td>&quot;02&quot;</td></tr><tr><td>&quot;02&quot;</td></tr><tr><td>&quot;02&quot;</td></tr><tr><td>&quot;02&quot;</td></tr><tr><td>&quot;02&quot;</td></tr><tr><td>&quot;02&quot;</td></tr><tr><td>&quot;02&quot;</td></tr></tbody></table></div>"
      ],
      "text/plain": [
       "shape: (2_087,)\n",
       "Series: 'COMPLEX' [str]\n",
       "[\n",
       "\t\"02\"\n",
       "\t\"02\"\n",
       "\t\"02\"\n",
       "\t\"02\"\n",
       "\t\"02\"\n",
       "\t\"02\"\n",
       "\t\"02\"\n",
       "\t\"02\"\n",
       "\t\"02\"\n",
       "\t\"02\"\n",
       "\t\"02\"\n",
       "\t\"02\"\n",
       "\t…\n",
       "\t\"02\"\n",
       "\t\"02\"\n",
       "\t\"02\"\n",
       "\t\"02\"\n",
       "\t\"02\"\n",
       "\t\"02\"\n",
       "\t\"02\"\n",
       "\t\"02\"\n",
       "\t\"02\"\n",
       "\t\"02\"\n",
       "\t\"02\"\n",
       "\t\"02\"\n",
       "\t\"02\"\n",
       "]"
      ]
     },
     "execution_count": 201,
     "metadata": {},
     "output_type": "execute_result"
    }
   ],
   "source": [
    "cols = set(['UF_ZI','ANO_CMPT','MES_CMPT','ESPEC','CGC_HOSP','N_AIH','IDENT','CEP','MUNIC_RES','NASC','SEXO','UTI_MES_IN','UTI_MES_AN','UTI_MES_AL','UTI_MES_TO','MARCA_UTI','UTI_INT_IN','UTI_INT_AN','UTI_INT_AL','UTI_INT_TO','DIAR_ACOM','QT_DIARIAS','PROC_SOLIC','PROC_REA','VAL_SH','VAL_SP','VAL_SADT','VAL_RN','VAL_ACOMP','VAL_ORTP','VAL_SANGUE','VAL_SADTSR','VAL_TRANSP','VAL_OBSANG','VAL_PED1AC','VAL_TOT','VAL_UTI','US_TOT','DI_INTER','DT_SAIDA','DIAG_PRINC','DIAG_SECUN','COBRANCA','NATUREZA','NAT_JUR','DESTAO','RUBRICA','IND_VDRL','MUNIC_MOV','COD_IDADE','IDADE','DIAS_PERM','MORTE','NACIONAL','NUM_PROC','CAR_INT','TOT_PT_SP','CPF_AUT','HOMONIMO','NUM_FILHOS','INSTRU','CID_NOTIF','CONTRACEP1','CONTRACEP2','GESTRISCO','INSC_PN','SEQ_AIH5','CBOR','CNAER','VINCPREV','GESTOR_COD','GESTOR_TP','GESTOR_CPF','GESTOR_DT','CNES','CNPJ_MANT','INFEHOSP','CID_ASSO','CID_MORTE','COMPLEX','FINANC','FAEC_TP','REGCT','RACA_COR','ETNIA','SEQUENCIA','REMESSA','AUD_JUST','SIS_JUST','VAL_SH_FED','VAL_SP_FED','VAL_SH_GES','VAL_SP_GES','VAL_UCI','MARCA_UCI','DIAGSEC1','DIAGSEC2','DIAGSEC3','DIAGSEC4','DIAGSEC5','DIAGSEC6','DIAGSEC7','DIAGSEC8','DIAGSEC9','TPDISEC1','TPDISEC2','TPDISEC3','TPDISEC4','TPDISEC5','TPDISEC6','TPDISEC7','TPDISEC8','TPDISEC9' ])\n",
    "set(cols) - set(df2.columns)\n",
    "\n",
    "# filtered_df = df.filter()\n",
    "# filtered_df\n",
    "value = \"120030\"\n",
    "for column in df.columns:\n",
    "    series = df[column]\n",
    "\n",
    "    result = series.cast(pl.Utf8).str.contains(value).sum()\n",
    "    if result > 0:\n",
    "        print(column)\n",
    "        pass\n",
    "# filterd_df = df.with_columns(pl.col(\"*\").is_in(\"1210106762\").alias(\"has_value\"))\n",
    "# filterd_df\n",
    "\n",
    "\n",
    "# df.filter(pl.col(\"INSC_PN\").eq(\"000000000000000\"))\n",
    "\n",
    "df[\"COMPLEX\"]\n"
   ]
  },
  {
   "cell_type": "code",
   "execution_count": 158,
   "metadata": {},
   "outputs": [
    {
     "name": "stderr",
     "output_type": "stream",
     "text": [
      "C:\\Users\\Murilo\\AppData\\Local\\Temp\\ipykernel_17328\\1617002060.py:21: DeprecationWarning: `lstrip` is deprecated. It has been renamed to `strip_chars_start`.\n",
      "  .otherwise(pl.col(\"GESTOR_CPF\").str.lstrip(\"0\"))\n",
      "C:\\Users\\Murilo\\AppData\\Local\\Temp\\ipykernel_17328\\1617002060.py:25: DeprecationWarning: `lstrip` is deprecated. It has been renamed to `strip_chars_start`.\n",
      "  .otherwise(pl.col(\"INSC_PN\").str.lstrip(\"0\"))\n"
     ]
    },
    {
     "data": {
      "text/html": [
       "<div><style>\n",
       ".dataframe > thead > tr > th,\n",
       ".dataframe > tbody > tr > td {\n",
       "  text-align: right;\n",
       "  white-space: pre-wrap;\n",
       "}\n",
       "</style>\n",
       "<small>shape: (4_712,)</small><table border=\"1\" class=\"dataframe\"><thead><tr><th>INSC_PN</th></tr><tr><td>str</td></tr></thead><tbody><tr><td>null</td></tr><tr><td>null</td></tr><tr><td>null</td></tr><tr><td>null</td></tr><tr><td>null</td></tr><tr><td>null</td></tr><tr><td>null</td></tr><tr><td>null</td></tr><tr><td>null</td></tr><tr><td>null</td></tr><tr><td>null</td></tr><tr><td>null</td></tr><tr><td>&hellip;</td></tr><tr><td>null</td></tr><tr><td>null</td></tr><tr><td>null</td></tr><tr><td>null</td></tr><tr><td>null</td></tr><tr><td>null</td></tr><tr><td>null</td></tr><tr><td>null</td></tr><tr><td>null</td></tr><tr><td>null</td></tr><tr><td>null</td></tr><tr><td>null</td></tr></tbody></table></div>"
      ],
      "text/plain": [
       "shape: (4_712,)\n",
       "Series: 'INSC_PN' [str]\n",
       "[\n",
       "\tnull\n",
       "\tnull\n",
       "\tnull\n",
       "\tnull\n",
       "\tnull\n",
       "\tnull\n",
       "\tnull\n",
       "\tnull\n",
       "\tnull\n",
       "\tnull\n",
       "\tnull\n",
       "\tnull\n",
       "\t…\n",
       "\tnull\n",
       "\tnull\n",
       "\tnull\n",
       "\tnull\n",
       "\tnull\n",
       "\tnull\n",
       "\tnull\n",
       "\tnull\n",
       "\tnull\n",
       "\tnull\n",
       "\tnull\n",
       "\tnull\n",
       "\tnull\n",
       "]"
      ]
     },
     "execution_count": 158,
     "metadata": {},
     "output_type": "execute_result"
    }
   ],
   "source": [
    "def upsert_column(df: pl.DataFrame, name: str, dtype: pl.PolarsDataType):\n",
    "    if name in df.columns:\n",
    "        return pl.col(name).cast(dtype)\n",
    "    else:\n",
    "        return pl.lit(None, dtype).alias(name)\n",
    "\n",
    "\n",
    "def map_sih_rd(df: pl.DataFrame):\n",
    "    return df.with_columns(\n",
    "        pl.when(pl.col(pl.Utf8).str.len_chars() == 0)\n",
    "        .then(None)\n",
    "        .otherwise(pl.col(pl.Utf8))\n",
    "        .name.keep(),\n",
    "        pl.when(pl.col(\"IDADE\").gt(200))\n",
    "        .then(None)\n",
    "        .otherwise(pl.col(\"IDADE\"))\n",
    "        .name.keep(),\n",
    "    ).with_columns(\n",
    "        pl.when(pl.col(\"GESTOR_CPF\").cast(pl.UInt64) == 0)\n",
    "        .then(None)\n",
    "        .otherwise(pl.col(\"GESTOR_CPF\").str.lstrip(\"0\"))\n",
    "        .name.keep(),\n",
    "        pl.when(pl.col(\"INSC_PN\").cast(pl.UInt64) == 0)\n",
    "        .then(None)\n",
    "        .otherwise(pl.col(\"INSC_PN\").str.lstrip(\"0\"))\n",
    "        .name.keep(),\n",
    "    ).with_columns(\n",
    "        [\n",
    "            pl.col(\"UF_ZI\").cast(pl.UInt32),\n",
    "            pl.col(\"ANO_CMPT\").cast(pl.UInt16),\n",
    "            pl.col(\"MES_CMPT\").cast(pl.UInt8),\n",
    "            pl.col(\"ESPEC\").cast(pl.UInt8),\n",
    "            upsert_column(df, \"CGC_HOSP\", pl.Utf8),\n",
    "            upsert_column(df, \"N_AIH\", pl.Utf8),\n",
    "            pl.col(\"IDENT\").cast(pl.UInt8),\n",
    "            upsert_column(df, \"CEP\", pl.Utf8),\n",
    "            pl.col(\"MUNIC_RES\").cast(pl.UInt32),\n",
    "            pl.col(\"NASC\").str.to_date(\"%Y%m%d\"),\n",
    "            pl.col(\"SEXO\").cast(pl.UInt8),\n",
    "            pl.col(\"UTI_MES_IN\").cast(pl.UInt8),\n",
    "            pl.col(\"UTI_MES_AN\").cast(pl.UInt8),\n",
    "            pl.col(\"UTI_MES_AL\").cast(pl.UInt8),\n",
    "            pl.col(\"UTI_MES_TO\").cast(pl.UInt16),\n",
    "            pl.col(\"MARCA_UTI\").cast(pl.UInt8),\n",
    "            pl.col(\"UTI_INT_IN\").cast(pl.UInt8),\n",
    "            pl.col(\"UTI_INT_AN\").cast(pl.UInt8),\n",
    "            pl.col(\"UTI_INT_AL\").cast(pl.UInt8),\n",
    "            pl.col(\"UTI_INT_TO\").cast(pl.UInt16),\n",
    "            pl.col(\"DIAR_ACOM\").cast(pl.UInt16),\n",
    "            pl.col(\"QT_DIARIAS\").cast(pl.UInt16),\n",
    "            pl.col(\"DT_INTER\").str.to_date(\"%Y%m%d\"),\n",
    "            pl.col(\"DT_SAIDA\").str.to_date(\"%Y%m%d\"),\n",
    "            upsert_column(df, \"NAT_JUR\", pl.Utf8),\n",
    "            pl.col(\"IDADE\").cast(pl.UInt8),\n",
    "            pl.col(\"DIAS_PERM\").cast(pl.UInt16),\n",
    "            pl.col(\"MORTE\").cast(pl.Boolean),\n",
    "            pl.col(\"NACIONAL\").cast(pl.UInt16),\n",
    "            pl.col(\"CAR_INT\").cast(pl.UInt8),\n",
    "            pl.col(\"TOT_PT_SP\").cast(pl.UInt32),\n",
    "            pl.col(\"HOMONIMO\").cast(pl.UInt8),\n",
    "            pl.col(\"NUM_FILHOS\").cast(pl.UInt8),\n",
    "            pl.col(\"INSTRU\").cast(pl.UInt8),\n",
    "            pl.col(\"CONTRACEP1\").cast(pl.UInt8),\n",
    "            pl.col(\"CONTRACEP2\").cast(pl.UInt8),\n",
    "            pl.col(\"GESTRISCO\").cast(pl.UInt8),\n",
    "            pl.col(\"INSC_PN\").cast(pl.Utf8),\n",
    "            pl.col(\"SEQ_AIH5\").cast(pl.Utf8),\n",
    "            pl.col(\"CBOR\").cast(pl.UInt16),\n",
    "            pl.col(\"CNAER\").cast(pl.UInt16),\n",
    "            pl.col(\"VINCPREV\").cast(pl.UInt8),\n",
    "            pl.col(\"GESTOR_COD\").cast(pl.UInt16),\n",
    "            pl.col(\"GESTOR_TP\").cast(pl.UInt8),\n",
    "            pl.col(\"GESTOR_CPF\").cast(pl.Utf8),\n",
    "            pl.col(\"GESTOR_DT\").str.to_date(\"%Y%m%d\"),\n",
    "            pl.col(\"INFEHOSP\").cast(pl.UInt8),\n",
    "            pl.col(\"FINANC\").cast(pl.UInt8),\n",
    "            pl.col(\"FAEC_TP\").cast(pl.UInt32),\n",
    "            pl.col(\"REGCT\").cast(pl.UInt16),\n",
    "            pl.col(\"RACA_COR\").cast(pl.UInt16),\n",
    "            pl.col(\"ETNIA\").cast(pl.UInt16),\n",
    "            pl.col(\"SEQUENCIA\").cast(pl.UInt64),\n",
    "            upsert_column(df, \"AUD_JUST\", pl.Utf8),\n",
    "            upsert_column(df, \"SIS_JUST\", pl.Utf8),\n",
    "            upsert_column(df, \"VAL_SH_FED\", pl.Float64),\n",
    "            upsert_column(df, \"VAL_SP_FED\", pl.Float64),\n",
    "            upsert_column(df, \"VAL_SH_GES\", pl.Float64),\n",
    "            upsert_column(df, \"VAL_SP_GES\", pl.Float64),\n",
    "            upsert_column(df, \"VAL_UCI\", pl.Float64),\n",
    "            upsert_column(df, \"MARCA_UCI\", pl.UInt8),\n",
    "            upsert_column(df, \"DIAGSEC1\", pl.Utf8),\n",
    "            upsert_column(df, \"DIAGSEC2\", pl.Utf8),\n",
    "            upsert_column(df, \"DIAGSEC3\", pl.Utf8),\n",
    "            upsert_column(df, \"DIAGSEC4\", pl.Utf8),\n",
    "            upsert_column(df, \"DIAGSEC5\", pl.Utf8),\n",
    "            upsert_column(df, \"DIAGSEC6\", pl.Utf8),\n",
    "            upsert_column(df, \"DIAGSEC7\", pl.Utf8),\n",
    "            upsert_column(df, \"DIAGSEC8\", pl.Utf8),\n",
    "            upsert_column(df, \"DIAGSEC9\", pl.Utf8),\n",
    "            upsert_column(df, \"TPDISEC1\", pl.UInt8),\n",
    "            upsert_column(df, \"TPDISEC2\", pl.UInt8),\n",
    "            upsert_column(df, \"TPDISEC3\", pl.UInt8),\n",
    "            upsert_column(df, \"TPDISEC4\", pl.UInt8),\n",
    "            upsert_column(df, \"TPDISEC5\", pl.UInt8),\n",
    "            upsert_column(df, \"TPDISEC6\", pl.UInt8),\n",
    "            upsert_column(df, \"TPDISEC7\", pl.UInt8),\n",
    "            upsert_column(df, \"TPDISEC8\", pl.UInt8),\n",
    "            upsert_column(df, \"TPDISEC9\", pl.UInt8),\n",
    "        ]\n",
    "    )\n",
    "\n",
    "\n",
    "map_sih_rd(df)[\"INSC_PN\"]\n"
   ]
  },
  {
   "cell_type": "code",
   "execution_count": 28,
   "metadata": {},
   "outputs": [
    {
     "data": {
      "text/html": [
       "<div><style>\n",
       ".dataframe > thead > tr > th,\n",
       ".dataframe > tbody > tr > td {\n",
       "  text-align: right;\n",
       "  white-space: pre-wrap;\n",
       "}\n",
       "</style>\n",
       "<small>shape: (5, 4)</small><table border=\"1\" class=\"dataframe\"><thead><tr><th>id</th><th>name</th><th>boolean</th><th>dates</th></tr><tr><td>i16</td><td>str</td><td>bool</td><td>date</td></tr></thead><tbody><tr><td>1</td><td>&quot;Murilo&quot;</td><td>true</td><td>2022-10-10</td></tr><tr><td>2</td><td>&quot;Matheus&quot;</td><td>true</td><td>2022-10-10</td></tr><tr><td>3</td><td>&quot;Graca&quot;</td><td>true</td><td>2022-10-10</td></tr><tr><td>4</td><td>&quot;Milton&quot;</td><td>false</td><td>2022-10-05</td></tr><tr><td>5</td><td>&quot;Mujica&quot;</td><td>false</td><td>2023-05-07</td></tr></tbody></table></div>"
      ],
      "text/plain": [
       "shape: (5, 4)\n",
       "┌─────┬─────────┬─────────┬────────────┐\n",
       "│ id  ┆ name    ┆ boolean ┆ dates      │\n",
       "│ --- ┆ ---     ┆ ---     ┆ ---        │\n",
       "│ i16 ┆ str     ┆ bool    ┆ date       │\n",
       "╞═════╪═════════╪═════════╪════════════╡\n",
       "│ 1   ┆ Murilo  ┆ true    ┆ 2022-10-10 │\n",
       "│ 2   ┆ Matheus ┆ true    ┆ 2022-10-10 │\n",
       "│ 3   ┆ Graca   ┆ true    ┆ 2022-10-10 │\n",
       "│ 4   ┆ Milton  ┆ false   ┆ 2022-10-05 │\n",
       "│ 5   ┆ Mujica  ┆ false   ┆ 2023-05-07 │\n",
       "└─────┴─────────┴─────────┴────────────┘"
      ]
     },
     "execution_count": 28,
     "metadata": {},
     "output_type": "execute_result"
    }
   ],
   "source": [
    "s1 = pl.Series([1, 2, 3, 4, 5], dtype=pl.Int16)\n",
    "s2 = pl.Series([\"Murilo\", \"Matheus\", \"Graca\", \"Milton\", \"Mujica\"], dtype=pl.Utf8)\n",
    "s3 = pl.Series([True, True, True, False, False], dtype=pl.Boolean)\n",
    "s4 = pl.Series([\"10/10/2022\", \"10/10/2022\", \"10/10/2022\", \"05/10/2022\", \"07/05/2023\"], dtype=pl.Utf8)\n",
    "test_df = pl.DataFrame({\n",
    "    \"id\": s1,\n",
    "    \"name\": s2,\n",
    "    \"boolean\": s3,\n",
    "    \"dates\": s4\n",
    "})\n",
    "\n",
    "test_df = test_df.with_columns([\n",
    "    pl.col(\"dates\").str.to_date()\n",
    "])\n",
    "\n",
    "test_df"
   ]
  },
  {
   "cell_type": "code",
   "execution_count": 173,
   "metadata": {},
   "outputs": [
    {
     "ename": "CatalogException",
     "evalue": "Catalog Error: Table with name SIH_RD_SISTEMA_INFORMACOES_HOSPITALARES does not exist!\nDid you mean \"sqlite_master\"?",
     "output_type": "error",
     "traceback": [
      "\u001b[1;31m---------------------------------------------------------------------------\u001b[0m",
      "\u001b[1;31mCatalogException\u001b[0m                          Traceback (most recent call last)",
      "\u001b[1;32mc:\\Users\\Murilo\\projects\\python\\datasus\\main.ipynb Cell 8\u001b[0m line \u001b[0;36m1\n\u001b[1;32m----> <a href='vscode-notebook-cell:/c%3A/Users/Murilo/projects/python/datasus/main.ipynb#W6sZmlsZQ%3D%3D?line=0'>1</a>\u001b[0m \u001b[39mwith\u001b[39;49;00m duckdb\u001b[39m.\u001b[39;49mconnect(\u001b[39mr\u001b[39;49m\u001b[39m\"\u001b[39;49m\u001b[39mC:\u001b[39;49m\u001b[39m\\\u001b[39;49m\u001b[39mUsers\u001b[39;49m\u001b[39m\\\u001b[39;49m\u001b[39mMurilo\u001b[39;49m\u001b[39m\\\u001b[39;49m\u001b[39mDownloads\u001b[39;49m\u001b[39m\\\u001b[39;49m\u001b[39mduckdb\u001b[39;49m\u001b[39m\\\u001b[39;49m\u001b[39mtest.db\u001b[39;49m\u001b[39m\"\u001b[39;49m) \u001b[39mas\u001b[39;49;00m con:\n\u001b[0;32m      <a href='vscode-notebook-cell:/c%3A/Users/Murilo/projects/python/datasus/main.ipynb#W6sZmlsZQ%3D%3D?line=1'>2</a>\u001b[0m     result \u001b[39m=\u001b[39;49m con\u001b[39m.\u001b[39;49msql(\u001b[39m\"\u001b[39;49m\u001b[39mDROP table IF EXISTS SIH_RD_SISTEMA_INFORMACOES_HOSPITALARES\u001b[39;49m\u001b[39m\"\u001b[39;49m)\n\u001b[0;32m      <a href='vscode-notebook-cell:/c%3A/Users/Murilo/projects/python/datasus/main.ipynb#W6sZmlsZQ%3D%3D?line=2'>3</a>\u001b[0m     result \u001b[39m=\u001b[39;49m con\u001b[39m.\u001b[39;49msql(\u001b[39m\"\"\"\u001b[39;49m\u001b[39mdelete from main.\u001b[39;49m\u001b[39m\"\u001b[39;49m\u001b[39m__import\u001b[39;49m\u001b[39m\"\u001b[39;49m\u001b[39m where table_name = \u001b[39;49m\u001b[39m'\u001b[39;49m\u001b[39mSIH_RD_SISTEMA_INFORMACOES_HOSPITALARES\u001b[39;49m\u001b[39m'\u001b[39;49m\u001b[39m\"\"\"\u001b[39;49m)\n",
      "\u001b[1;32mc:\\Users\\Murilo\\projects\\python\\datasus\\main.ipynb Cell 8\u001b[0m line \u001b[0;36m4\n\u001b[0;32m      <a href='vscode-notebook-cell:/c%3A/Users/Murilo/projects/python/datasus/main.ipynb#W6sZmlsZQ%3D%3D?line=1'>2</a>\u001b[0m result \u001b[39m=\u001b[39m con\u001b[39m.\u001b[39msql(\u001b[39m\"\u001b[39m\u001b[39mDROP table IF EXISTS SIH_RD_SISTEMA_INFORMACOES_HOSPITALARES\u001b[39m\u001b[39m\"\u001b[39m)\n\u001b[0;32m      <a href='vscode-notebook-cell:/c%3A/Users/Murilo/projects/python/datasus/main.ipynb#W6sZmlsZQ%3D%3D?line=2'>3</a>\u001b[0m result \u001b[39m=\u001b[39m con\u001b[39m.\u001b[39msql(\u001b[39m\"\"\"\u001b[39m\u001b[39mdelete from main.\u001b[39m\u001b[39m\"\u001b[39m\u001b[39m__import\u001b[39m\u001b[39m\"\u001b[39m\u001b[39m where table_name = \u001b[39m\u001b[39m'\u001b[39m\u001b[39mSIH_RD_SISTEMA_INFORMACOES_HOSPITALARES\u001b[39m\u001b[39m'\u001b[39m\u001b[39m\"\"\"\u001b[39m)\n\u001b[1;32m----> <a href='vscode-notebook-cell:/c%3A/Users/Murilo/projects/python/datasus/main.ipynb#W6sZmlsZQ%3D%3D?line=3'>4</a>\u001b[0m result \u001b[39m=\u001b[39m con\u001b[39m.\u001b[39;49mquery(\u001b[39m\"\u001b[39;49m\u001b[39mSELECT * FROM SIH_RD_SISTEMA_INFORMACOES_HOSPITALARES\u001b[39;49m\u001b[39m\"\u001b[39;49m)\n\u001b[0;32m      <a href='vscode-notebook-cell:/c%3A/Users/Murilo/projects/python/datasus/main.ipynb#W6sZmlsZQ%3D%3D?line=4'>5</a>\u001b[0m \u001b[39m# result = con.execute(f\"SELECT file FROM __import where table_name = ?\", [\"blabla\"]).df()\u001b[39;00m\n\u001b[0;32m      <a href='vscode-notebook-cell:/c%3A/Users/Murilo/projects/python/datasus/main.ipynb#W6sZmlsZQ%3D%3D?line=5'>6</a>\u001b[0m \u001b[39mprint\u001b[39m(result)\n",
      "\u001b[1;31mCatalogException\u001b[0m: Catalog Error: Table with name SIH_RD_SISTEMA_INFORMACOES_HOSPITALARES does not exist!\nDid you mean \"sqlite_master\"?"
     ]
    }
   ],
   "source": [
    "with duckdb.connect(r\"C:\\Users\\Murilo\\Downloads\\duckdb\\test.db\") as con:\n",
    "    # result = con.query(\"SELECT * FROM SIH_RD_SISTEMA_INFORMACOES_HOSPITALARES\")\n",
    "    result = con.sql(\"DROP table IF EXISTS SIH_RD_SISTEMA_INFORMACOES_HOSPITALARES\")\n",
    "    result = con.sql(\"\"\"delete from main.\"__import\" where table_name = 'SIH_RD_SISTEMA_INFORMACOES_HOSPITALARES'\"\"\")\n",
    "    # result = con.execute(f\"SELECT file FROM __import where table_name = ?\", [\"blabla\"]).df()\n",
    "    print(result)\n",
    "\n"
   ]
  }
 ],
 "metadata": {
  "kernelspec": {
   "display_name": "Python 3",
   "language": "python",
   "name": "python3"
  },
  "language_info": {
   "codemirror_mode": {
    "name": "ipython",
    "version": 3
   },
   "file_extension": ".py",
   "mimetype": "text/x-python",
   "name": "python",
   "nbconvert_exporter": "python",
   "pygments_lexer": "ipython3",
   "version": "3.11.3"
  }
 },
 "nbformat": 4,
 "nbformat_minor": 2
}
